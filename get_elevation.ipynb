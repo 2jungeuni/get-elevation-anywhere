{
 "cells": [
  {
   "cell_type": "code",
   "execution_count": 1,
   "id": "initial_id",
   "metadata": {
    "collapsed": true,
    "ExecuteTime": {
     "end_time": "2024-03-26T06:34:28.882687429Z",
     "start_time": "2024-03-26T06:34:28.677255328Z"
    }
   },
   "outputs": [],
   "source": [
    "import json\n",
    "import time\n",
    "import requests\n",
    "import numpy as np\n",
    "import pandas as pd"
   ]
  },
  {
   "cell_type": "code",
   "execution_count": 65,
   "outputs": [],
   "source": [
    "# configure API request link\n",
    "url_root = \"https://maps.googleapis.com/maps/api/elevation\"\n",
    "key_str = \"${YOUR_KEY}\"\n",
    "output_fmt = \"json\"\n",
    "request_str = \"%s/%s?locations=%s&key=%s\""
   ],
   "metadata": {
    "collapsed": false,
    "ExecuteTime": {
     "end_time": "2024-03-24T10:05:38.569401417Z",
     "start_time": "2024-03-24T10:05:38.523667232Z"
    }
   },
   "id": "85ba5dd27a8cade2"
  },
  {
   "cell_type": "code",
   "execution_count": 3,
   "outputs": [],
   "source": [
    "# download data\n",
    "links = pd.read_csv(\"./data/links_L260855.csv\")"
   ],
   "metadata": {
    "collapsed": false,
    "ExecuteTime": {
     "end_time": "2024-03-24T11:03:42.836870702Z",
     "start_time": "2024-03-24T11:03:42.505756101Z"
    }
   },
   "id": "385a1601566f78e2"
  },
  {
   "cell_type": "code",
   "execution_count": 67,
   "outputs": [],
   "source": [
    "lat_lng_str = []\n",
    "for idx, row in links.iterrows():\n",
    "    startLat = row['startY']    # latitude of start node\n",
    "    startLong = row['startX']   # longitude of start node\n",
    "    endLat = row['endY']        # latitude of end node\n",
    "    endLong = row['endX']       # longitude of start node\n",
    "    lat_lng_str.append(str(startLat) + \",\" + str(startLong) + \"|\")\n",
    "    lat_lng_str.append(str(endLat) + \",\" + str(endLong) + \"|\")\n",
    "    \n",
    "# delete duplicates\n",
    "lat_lng_str = list(set(lat_lng_str))\n",
    "\n",
    "# limit each request to 512\n",
    "length = len(lat_lng_str)\n",
    "iteration = length // 512 + 1"
   ],
   "metadata": {
    "collapsed": false,
    "ExecuteTime": {
     "end_time": "2024-03-24T10:05:50.680083254Z",
     "start_time": "2024-03-24T10:05:42.526289273Z"
    }
   },
   "id": "a9234fdb0d81092e"
  },
  {
   "cell_type": "code",
   "execution_count": 69,
   "outputs": [
    {
     "name": "stdout",
     "output_type": "stream",
     "text": [
      "iteration index:  0\n",
      "iteration index:  1\n",
      "iteration index:  2\n",
      "iteration index:  3\n",
      "iteration index:  4\n",
      "iteration index:  5\n",
      "iteration index:  6\n",
      "iteration index:  7\n",
      "iteration index:  8\n",
      "iteration index:  9\n",
      "iteration index:  10\n",
      "iteration index:  11\n",
      "iteration index:  12\n",
      "iteration index:  13\n",
      "iteration index:  14\n",
      "iteration index:  15\n",
      "iteration index:  16\n",
      "iteration index:  17\n",
      "iteration index:  18\n",
      "iteration index:  19\n",
      "iteration index:  20\n",
      "iteration index:  21\n",
      "iteration index:  22\n",
      "iteration index:  23\n",
      "iteration index:  24\n",
      "iteration index:  25\n",
      "iteration index:  26\n",
      "iteration index:  27\n",
      "iteration index:  28\n",
      "iteration index:  29\n",
      "iteration index:  30\n",
      "iteration index:  31\n",
      "iteration index:  32\n",
      "iteration index:  33\n",
      "iteration index:  34\n",
      "iteration index:  35\n",
      "iteration index:  36\n",
      "iteration index:  37\n",
      "iteration index:  38\n",
      "iteration index:  39\n",
      "iteration index:  40\n",
      "iteration index:  41\n",
      "iteration index:  42\n",
      "iteration index:  43\n",
      "iteration index:  44\n",
      "iteration index:  45\n",
      "iteration index:  46\n",
      "iteration index:  47\n",
      "iteration index:  48\n",
      "iteration index:  49\n",
      "iteration index:  50\n",
      "iteration index:  51\n",
      "iteration index:  52\n",
      "iteration index:  53\n",
      "iteration index:  54\n",
      "iteration index:  55\n",
      "iteration index:  56\n",
      "iteration index:  57\n",
      "iteration index:  58\n",
      "iteration index:  59\n",
      "iteration index:  60\n",
      "iteration index:  61\n",
      "iteration index:  62\n",
      "iteration index:  63\n",
      "iteration index:  64\n",
      "iteration index:  65\n",
      "iteration index:  66\n",
      "iteration index:  67\n",
      "iteration index:  68\n",
      "iteration index:  69\n",
      "iteration index:  70\n",
      "iteration index:  71\n",
      "iteration index:  72\n",
      "iteration index:  73\n",
      "iteration index:  74\n",
      "iteration index:  75\n",
      "iteration index:  76\n",
      "iteration index:  77\n",
      "iteration index:  78\n",
      "iteration index:  79\n",
      "iteration index:  80\n",
      "iteration index:  81\n",
      "iteration index:  82\n",
      "iteration index:  83\n",
      "iteration index:  84\n",
      "iteration index:  85\n",
      "iteration index:  86\n",
      "iteration index:  87\n",
      "iteration index:  88\n",
      "iteration index:  89\n",
      "iteration index:  90\n",
      "iteration index:  91\n",
      "iteration index:  92\n",
      "iteration index:  93\n",
      "iteration index:  94\n",
      "iteration index:  95\n",
      "iteration index:  96\n",
      "iteration index:  97\n",
      "iteration index:  98\n",
      "iteration index:  99\n",
      "iteration index:  100\n",
      "iteration index:  101\n",
      "iteration index:  102\n",
      "iteration index:  103\n",
      "iteration index:  104\n",
      "iteration index:  105\n",
      "iteration index:  106\n",
      "iteration index:  107\n",
      "iteration index:  108\n",
      "iteration index:  109\n",
      "iteration index:  110\n",
      "iteration index:  111\n",
      "iteration index:  112\n",
      "iteration index:  113\n",
      "iteration index:  114\n",
      "iteration index:  115\n",
      "iteration index:  116\n",
      "iteration index:  117\n",
      "iteration index:  118\n",
      "iteration index:  119\n",
      "iteration index:  120\n",
      "iteration index:  121\n",
      "iteration index:  122\n",
      "iteration index:  123\n",
      "iteration index:  124\n",
      "iteration index:  125\n",
      "iteration index:  126\n",
      "iteration index:  127\n",
      "iteration index:  128\n",
      "iteration index:  129\n",
      "iteration index:  130\n",
      "iteration index:  131\n",
      "iteration index:  132\n",
      "iteration index:  133\n",
      "iteration index:  134\n",
      "iteration index:  135\n",
      "iteration index:  136\n",
      "iteration index:  137\n",
      "iteration index:  138\n",
      "iteration index:  139\n",
      "iteration index:  140\n",
      "iteration index:  141\n",
      "iteration index:  142\n",
      "iteration index:  143\n",
      "iteration index:  144\n",
      "iteration index:  145\n",
      "iteration index:  146\n",
      "iteration index:  147\n",
      "iteration index:  148\n",
      "iteration index:  149\n",
      "iteration index:  150\n",
      "iteration index:  151\n",
      "iteration index:  152\n",
      "iteration index:  153\n",
      "iteration index:  154\n",
      "iteration index:  155\n",
      "iteration index:  156\n",
      "iteration index:  157\n",
      "iteration index:  158\n",
      "iteration index:  159\n",
      "iteration index:  160\n",
      "iteration index:  161\n",
      "iteration index:  162\n",
      "iteration index:  163\n",
      "iteration index:  164\n",
      "iteration index:  165\n",
      "iteration index:  166\n",
      "iteration index:  167\n",
      "iteration index:  168\n",
      "iteration index:  169\n",
      "iteration index:  170\n",
      "iteration index:  171\n",
      "iteration index:  172\n",
      "iteration index:  173\n",
      "iteration index:  174\n",
      "iteration index:  175\n",
      "iteration index:  176\n",
      "iteration index:  177\n",
      "iteration index:  178\n",
      "iteration index:  179\n",
      "iteration index:  180\n",
      "iteration index:  181\n",
      "iteration index:  182\n",
      "iteration index:  183\n",
      "iteration index:  184\n",
      "iteration index:  185\n",
      "iteration index:  186\n",
      "iteration index:  187\n",
      "iteration index:  188\n"
     ]
    }
   ],
   "source": [
    "# !IMPORTANT!\n",
    "# payment is required\n",
    "for i in range(iteration):\n",
    "    #print(\"iteration index: \", i)\n",
    "    iter_str = lat_lng_str[i * 512: (i+1) * 512]\n",
    "    locs = \"\".join([x for x in iter_str]).rstrip('|')\n",
    "\n",
    "    # make requests\n",
    "    r = requests.get(request_str % (url_root, output_fmt, locs, key_str))\n",
    "    with open(\"./data/elevation/elevation_result_\" + str(i) + \".json\", \"w\") as json_file:\n",
    "        json.dump(json.loads(r.text), json_file)\n",
    "    \n",
    "    # slow down API requests so we aren't blocked\n",
    "    time.sleep(1)"
   ],
   "metadata": {
    "collapsed": false,
    "ExecuteTime": {
     "end_time": "2024-03-24T10:12:00.062993281Z",
     "start_time": "2024-03-24T10:06:12.097600547Z"
    }
   },
   "id": "4f6f9c69b25921f"
  },
  {
   "cell_type": "code",
   "execution_count": 70,
   "outputs": [],
   "source": [
    "# dictionary for saving elevation\n",
    "lat_lng_elev = dict()\n",
    "for i in range(iteration):\n",
    "    with open(\"./data/elevation/elevation_result_\" + str(i) + \".json\", \"r\") as f_json:\n",
    "        result = json.load(f_json)\n",
    "        r = result['results']\n",
    "        \n",
    "        for j in range(len(r)):\n",
    "            r_ = r[j]\n",
    "            elevation = r_['elevation']\n",
    "            loc_lat = r_['location']['lat']\n",
    "            loc_lng = r_['location']['lng']\n",
    "            lat_lng_elev[(loc_lat, loc_lng)] = elevation"
   ],
   "metadata": {
    "collapsed": false,
    "ExecuteTime": {
     "end_time": "2024-03-24T10:13:09.271274604Z",
     "start_time": "2024-03-24T10:13:09.061884161Z"
    }
   },
   "id": "2a2411a5ef7f5883"
  },
  {
   "cell_type": "code",
   "execution_count": 71,
   "outputs": [
    {
     "name": "stderr",
     "output_type": "stream",
     "text": [
      "IOPub data rate exceeded.\n",
      "The Jupyter server will temporarily stop sending output\n",
      "to the client in order to avoid crashing it.\n",
      "To change this limit, set the config variable\n",
      "`--ServerApp.iopub_data_rate_limit`.\n",
      "\n",
      "Current values:\n",
      "ServerApp.iopub_data_rate_limit=1000000.0 (bytes/sec)\n",
      "ServerApp.rate_limit_window=3.0 (secs)\n",
      "\n"
     ]
    }
   ],
   "source": [
    "# calculate elevation angle\n",
    "angle = list()\n",
    "for i, row in links.iterrows():\n",
    "    start_lat = row['startY']\n",
    "    start_lng = row['startX']\n",
    "    end_lat = row['endY']\n",
    "    end_lng = row['endX']\n",
    "    \n",
    "    start_elev = lat_lng_elev[(start_lat, start_lng)]\n",
    "    end_elev = lat_lng_elev[(end_lat, end_lng)]\n",
    "    \n",
    "    elev_diff = end_elev - start_elev\n",
    "    street_length = row['street_length']\n",
    "    angle.append(np.arctan2(elev_diff, street_length))"
   ],
   "metadata": {
    "collapsed": false,
    "ExecuteTime": {
     "end_time": "2024-03-24T10:14:53.761587664Z",
     "start_time": "2024-03-24T10:13:11.780458825Z"
    }
   },
   "id": "e2b8e683b5c1153c"
  },
  {
   "cell_type": "code",
   "execution_count": 73,
   "outputs": [],
   "source": [
    "links['elevation'] = angle"
   ],
   "metadata": {
    "collapsed": false,
    "ExecuteTime": {
     "end_time": "2024-03-24T10:15:41.566392354Z",
     "start_time": "2024-03-24T10:15:41.521745382Z"
    }
   },
   "id": "a3545664a90c9377"
  },
  {
   "cell_type": "code",
   "execution_count": 9,
   "outputs": [],
   "source": [
    "links.to_csv(\"./data/links_L260855.csv\", index=False)"
   ],
   "metadata": {
    "collapsed": false,
    "ExecuteTime": {
     "end_time": "2024-03-26T06:40:03.612806363Z",
     "start_time": "2024-03-26T06:40:01.912158054Z"
    }
   },
   "id": "c22eedeb29aa730c"
  }
 ],
 "metadata": {
  "kernelspec": {
   "display_name": "Python 3",
   "language": "python",
   "name": "python3"
  },
  "language_info": {
   "codemirror_mode": {
    "name": "ipython",
    "version": 2
   },
   "file_extension": ".py",
   "mimetype": "text/x-python",
   "name": "python",
   "nbconvert_exporter": "python",
   "pygments_lexer": "ipython2",
   "version": "2.7.6"
  }
 },
 "nbformat": 4,
 "nbformat_minor": 5
}
