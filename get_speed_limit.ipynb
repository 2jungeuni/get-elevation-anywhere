{
 "cells": [
  {
   "cell_type": "code",
   "execution_count": 36,
   "id": "initial_id",
   "metadata": {
    "collapsed": true,
    "ExecuteTime": {
     "end_time": "2024-03-24T03:08:48.301491138Z",
     "start_time": "2024-03-24T03:08:48.299368896Z"
    }
   },
   "outputs": [],
   "source": [
    "import numpy as np\n",
    "import pandas as pd\n",
    "\n",
    "import shapely\n",
    "from shapely import wkt\n",
    "from shapely.geometry import LineString, MultiLineString, Polygon, Point"
   ]
  },
  {
   "cell_type": "code",
   "execution_count": 37,
   "outputs": [],
   "source": [
    "# download data\n",
    "links = pd.read_csv(\"./data/links.csv\")\n",
    "speed_limit = pd.read_csv(\"./data/speed_limits.csv\")"
   ],
   "metadata": {
    "collapsed": false,
    "ExecuteTime": {
     "end_time": "2024-03-24T03:08:48.828344014Z",
     "start_time": "2024-03-24T03:08:48.302903157Z"
    }
   },
   "id": "20e9d627a8272924"
  },
  {
   "cell_type": "code",
   "execution_count": 38,
   "outputs": [],
   "source": [
    "# change string to shapely geometries\n",
    "speed_limit['the_geom'] = speed_limit['the_geom'].apply(wkt.loads)"
   ],
   "metadata": {
    "collapsed": false,
    "ExecuteTime": {
     "end_time": "2024-03-24T03:08:50.105726641Z",
     "start_time": "2024-03-24T03:08:50.104797475Z"
    }
   },
   "id": "d92005645268f3ca"
  },
  {
   "cell_type": "code",
   "execution_count": 39,
   "outputs": [],
   "source": [
    "speed_limit_kmh = dict()\n",
    "speed_limit_kmh_buffered_geom = dict()\n",
    "\n",
    "for idx, row in speed_limit.iterrows():\n",
    "    # speed limits in the table have mph units\n",
    "    mph = int(row['postvz_sl'])\n",
    "    \n",
    "    # if there is no limit, set as default (25 mph)\n",
    "    if mph == 0:\n",
    "        mph = 25\n",
    "        \n",
    "    # mph -> km/h\n",
    "    speed_limit_kmh[row['the_geom']] = 1.609344 * mph\n",
    "    # buffered\n",
    "    speed_limit_kmh_buffered_geom[row['the_geom'].buffer(0.001)] = 1.609344 * mph"
   ],
   "metadata": {
    "collapsed": false,
    "ExecuteTime": {
     "end_time": "2024-03-24T03:09:08.560307552Z",
     "start_time": "2024-03-24T03:08:50.151990698Z"
    }
   },
   "id": "e47c3b5755b7e674"
  },
  {
   "cell_type": "code",
   "execution_count": 40,
   "outputs": [],
   "source": [
    "buffered_links_in_ny = np.array(list(speed_limit_kmh_buffered_geom.keys()))"
   ],
   "metadata": {
    "collapsed": false,
    "ExecuteTime": {
     "end_time": "2024-03-24T03:09:08.761971693Z",
     "start_time": "2024-03-24T03:09:08.759789906Z"
    }
   },
   "id": "4fbb9811d528e81e"
  },
  {
   "cell_type": "code",
   "execution_count": 41,
   "outputs": [],
   "source": [
    "time = list()\n",
    "limit = list()\n",
    "\n",
    "for idx, row in links.iterrows():\n",
    "    ego_link = LineString([Point(row['startX'], row['startY']), Point(row['endX'], row['endY'])])\n",
    "    street_length = float(row['street_length'])\n",
    "    \n",
    "    # find geometries containing the link\n",
    "    related_links = np.array(shapely.contains(buffered_links_in_ny, ego_link))\n",
    "\n",
    "    if not any(related_links):\n",
    "        # put 25 mph if there is no corresponding geometry\n",
    "        t_ = street_length / ((1.609344 * 25) / 3.6)\n",
    "        l_ = (1.609344 * 25) / 3.6\n",
    "    else:\n",
    "        ratio = 0\n",
    "        corr_link = None\n",
    "        # put the speed limit of the most overlapping geometry\n",
    "        for cand in buffered_links_in_ny[related_links]:\n",
    "            intersects = shapely.intersection(ego_link, cand)\n",
    "            r_ = intersects.length / ego_link.length\n",
    "            if r_ > ratio:\n",
    "                ratio = r_\n",
    "                corr_link = cand\n",
    "        t_ = street_length / (speed_limit_kmh_buffered_geom[corr_link] / 3.6)\n",
    "        l_ = speed_limit_kmh_buffered_geom[corr_link] / 3.6\n",
    "    # save in list\n",
    "    time.append(t_)\n",
    "    limit.append(l_)"
   ],
   "metadata": {
    "collapsed": false,
    "ExecuteTime": {
     "end_time": "2024-03-24T03:52:45.782185894Z",
     "start_time": "2024-03-24T03:09:08.772426232Z"
    }
   },
   "id": "b470bccfc408d73b"
  },
  {
   "cell_type": "code",
   "execution_count": 20,
   "outputs": [],
   "source": [
    "# add new columns for travel time attribute\n",
    "links['travel_time'] = time\n",
    "links['speed_limit'] = limit"
   ],
   "metadata": {
    "collapsed": false,
    "ExecuteTime": {
     "end_time": "2024-03-24T01:28:36.134591649Z",
     "start_time": "2024-03-24T01:28:36.134347980Z"
    }
   },
   "id": "60b8eb6562e4cf68"
  },
  {
   "cell_type": "code",
   "execution_count": 43,
   "outputs": [],
   "source": [
    "links.to_csv('links_L260855.csv', index=False)"
   ],
   "metadata": {
    "collapsed": false,
    "ExecuteTime": {
     "end_time": "2024-03-24T03:52:47.264320188Z",
     "start_time": "2024-03-24T03:52:45.807933709Z"
    }
   },
   "id": "c20eb6f1d2cef5eb"
  },
  {
   "cell_type": "code",
   "execution_count": 44,
   "outputs": [
    {
     "name": "stdout",
     "output_type": "stream",
     "text": [
      "maximum speed limit is  129.4994055168 km/h\n"
     ]
    }
   ],
   "source": [
    "print(\"maximum speed limit is \", max(speed_limit_kmh_buffered_geom.values()) * 1.609344, \"km/h\")"
   ],
   "metadata": {
    "collapsed": false,
    "ExecuteTime": {
     "end_time": "2024-03-24T03:52:47.275211731Z",
     "start_time": "2024-03-24T03:52:47.271558190Z"
    }
   },
   "id": "4046a04bfc39f9d8"
  },
  {
   "cell_type": "markdown",
   "source": [],
   "metadata": {
    "collapsed": false
   },
   "id": "4b9039d76e823d1d"
  }
 ],
 "metadata": {
  "kernelspec": {
   "display_name": "Python 3",
   "language": "python",
   "name": "python3"
  },
  "language_info": {
   "codemirror_mode": {
    "name": "ipython",
    "version": 2
   },
   "file_extension": ".py",
   "mimetype": "text/x-python",
   "name": "python",
   "nbconvert_exporter": "python",
   "pygments_lexer": "ipython2",
   "version": "2.7.6"
  }
 },
 "nbformat": 4,
 "nbformat_minor": 5
}
