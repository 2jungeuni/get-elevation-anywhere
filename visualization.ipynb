{
 "cells": [
  {
   "cell_type": "code",
   "execution_count": 1,
   "outputs": [],
   "source": [
    "import json\n",
    "import folium\n",
    "import numpy as np\n",
    "import pandas as pd\n",
    "import branca.colormap as cm"
   ],
   "metadata": {
    "collapsed": false,
    "ExecuteTime": {
     "end_time": "2024-03-25T12:13:39.882463072Z",
     "start_time": "2024-03-25T12:13:39.301717546Z"
    }
   },
   "id": "218f3c06607fbd6e"
  },
  {
   "cell_type": "code",
   "execution_count": 2,
   "outputs": [],
   "source": [
    "links = pd.read_csv(\"./data/links_L260855.csv\")"
   ],
   "metadata": {
    "collapsed": false,
    "ExecuteTime": {
     "end_time": "2024-03-25T12:13:40.276354254Z",
     "start_time": "2024-03-25T12:13:39.925346681Z"
    }
   },
   "id": "e79a3b09dc69f6a1"
  },
  {
   "cell_type": "code",
   "execution_count": 3,
   "outputs": [],
   "source": [
    "newyork = folium.Map(location=(40.785226, -73.957365), zoom_start=16)                           # new york map for representing speed limit\n",
    "newyork_elev = folium.Map(location=(40.785226, -73.957365), zoom_start=16)                      # new york map for representing elevation\n",
    "colormap = cm.LinearColormap(colors=['green', 'yellow', 'red'], vmin=0, vmax=23)                # colormap for speed limit (m/s)\n",
    "colormap_elev = cm.LinearColormap(colors=['green', 'yellow', 'red'], vmin=-0.39, vmax=0.39)     # colormap for elevation (radians)\n",
    "\n",
    "for idx, row in links.iterrows():\n",
    "    location_data = [[row['startY'], row['startX']], \n",
    "                     [row['endY'], row['endX']]]\n",
    "    folium.PolyLine(locations=location_data, color=colormap(row['speed_limit']), weight=3).add_to(newyork)\n",
    "    folium.PolyLine(locations=location_data, color=colormap_elev(row['elevation']), weight=3).add_to(newyork_elev)"
   ],
   "metadata": {
    "collapsed": false,
    "ExecuteTime": {
     "end_time": "2024-03-25T12:14:03.487688732Z",
     "start_time": "2024-03-25T12:13:40.619188031Z"
    }
   },
   "id": "80f5407058c1d8c0"
  },
  {
   "cell_type": "code",
   "execution_count": 4,
   "outputs": [],
   "source": [
    "# add the scale\n",
    "newyork.add_child(colormap)\n",
    "newyork_elev.add_child(colormap_elev)"
   ],
   "metadata": {
    "collapsed": false,
    "ExecuteTime": {
     "end_time": "2024-03-25T12:15:15.141273969Z",
     "start_time": "2024-03-25T12:14:03.488537081Z"
    }
   },
   "id": "6ca382c8c89c1e91"
  },
  {
   "cell_type": "code",
   "execution_count": null,
   "outputs": [],
   "source": [
    "# save map\n",
    "newyork.save('speed_limit_ny.html')"
   ],
   "metadata": {
    "collapsed": false,
    "is_executing": true
   },
   "id": "3f4873de32cc0bd"
  },
  {
   "cell_type": "code",
   "execution_count": null,
   "outputs": [],
   "source": [
    "# save map\n",
    "newyork_elev.save(\"elevation_ny.html\")"
   ],
   "metadata": {
    "collapsed": false,
    "is_executing": true
   },
   "id": "641bdb1bfe8ce5f7"
  }
 ],
 "metadata": {
  "kernelspec": {
   "display_name": "Python 3",
   "language": "python",
   "name": "python3"
  },
  "language_info": {
   "codemirror_mode": {
    "name": "ipython",
    "version": 2
   },
   "file_extension": ".py",
   "mimetype": "text/x-python",
   "name": "python",
   "nbconvert_exporter": "python",
   "pygments_lexer": "ipython2",
   "version": "2.7.6"
  }
 },
 "nbformat": 4,
 "nbformat_minor": 5
}
